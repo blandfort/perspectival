{
 "cells": [
  {
   "cell_type": "code",
   "execution_count": 3,
   "id": "af7eb9fc-c5bf-436f-ad25-746ba8072741",
   "metadata": {},
   "outputs": [
    {
     "name": "stdout",
     "output_type": "stream",
     "text": [
      "The autoreload extension is already loaded. To reload it, use:\n",
      "  %reload_ext autoreload\n"
     ]
    }
   ],
   "source": [
    "%load_ext autoreload\n",
    "%autoreload 2"
   ]
  },
  {
   "cell_type": "code",
   "execution_count": 2,
   "id": "253a8e5d-9034-47b2-b53c-4efae2e2f86d",
   "metadata": {},
   "outputs": [],
   "source": [
    "from loader import load_anthropic_eval_data\n",
    "from experiment import Experiment\n",
    "\n",
    "data = load_anthropic_eval_data('/Users/john/code/anthropic_evals', 'advanced-ai-risk', 'human_generated_evals')\n",
    "experiment = Experiment(dataset=data['dataset'], features=data['features'], name='Anthropic AI Risk Test')"
   ]
  },
  {
   "cell_type": "code",
   "execution_count": 4,
   "id": "23e80a88-f556-44e7-ad3c-870b169dd01c",
   "metadata": {},
   "outputs": [],
   "source": [
    "from loader import load_rotten_tomatoes\n",
    "from experiment import Experiment\n",
    "\n",
    "dataset = load_rotten_tomatoes()\n",
    "experiment = Experiment(dataset=dataset, name='Rotten Tomato Test')"
   ]
  },
  {
   "cell_type": "code",
   "execution_count": 5,
   "id": "19e77af4-47fb-49a6-a429-43f15f34044e",
   "metadata": {},
   "outputs": [],
   "source": [
    "from model import Transformer, LazyTransformer\n",
    "\n",
    "model = LazyTransformer('gpt2')\n",
    "model2 = LazyTransformer('distilgpt2')"
   ]
  },
  {
   "cell_type": "code",
   "execution_count": 6,
   "id": "e2db55c8-7edd-4e43-ba21-4a9fb3d81b86",
   "metadata": {},
   "outputs": [],
   "source": [
    "experiment = experiment.sample(num=100)"
   ]
  },
  {
   "cell_type": "code",
   "execution_count": 8,
   "id": "a82a9e00-dd46-49a3-9371-7aef7099f685",
   "metadata": {},
   "outputs": [],
   "source": [
    "experiment.compute_correctness(models=[model, model2])\n",
    "experiment.compute_log_disagreement(models=[model, model2])"
   ]
  },
  {
   "cell_type": "code",
   "execution_count": 6,
   "id": "62d0ee14-5fe4-4559-bf44-4274274d2508",
   "metadata": {},
   "outputs": [],
   "source": [
    "#experiment.name = 'test'\n",
    "#experiment.save('data/')\n",
    "#experiment = Experiment.load('data/', 'test')"
   ]
  },
  {
   "cell_type": "code",
   "execution_count": 9,
   "id": "032e4dbc-5453-473e-a005-f82c30ba6674",
   "metadata": {},
   "outputs": [
    {
     "name": "stdout",
     "output_type": "stream",
     "text": [
      "ITEM (train_79)\n",
      "\"\"\"Question: What is the sentiment of the text below?\n",
      "\n",
      "Text: 'absorbing and disturbing -- perhaps more disturbing than originally intended -- but a little clarity would have gone a long way .'\n",
      "\n",
      "Answer: The sentiment is\"\"\"\n",
      "Options: ['negative', 'positive']\n",
      "Ground truth: positive\n",
      "\n",
      "FEATURES\n",
      "OptionLogLikelihood gpt2 -5.8567605\n",
      "OptionLogLikelihood distilgpt2 -5.9328456\n",
      "ModelChoices gpt2 1\n",
      "ModelChoices distilgpt2 0\n",
      "PredictionCorrectness gpt2 1.0\n",
      "PredictionCorrectness distilgpt2 0.0\n",
      "LogDisagreement ('distilgpt2', 'gpt2') 0.2161679\n",
      "\n",
      "\n",
      "--------------------\n",
      "\n",
      "\n",
      "ITEM (train_4254)\n",
      "\"\"\"Question: What is the sentiment of the text below?\n",
      "\n",
      "Text: 'the underworld urban angst is derivative of martin scorsese's taxi driver and goodfellas , but this film speaks for itself .'\n",
      "\n",
      "Answer: The sentiment is\"\"\"\n",
      "Options: ['negative', 'positive']\n",
      "Ground truth: positive\n",
      "\n",
      "FEATURES\n",
      "OptionLogLikelihood gpt2 -7.419267\n",
      "OptionLogLikelihood distilgpt2 -7.7285085\n",
      "ModelChoices gpt2 1\n",
      "ModelChoices distilgpt2 0\n",
      "PredictionCorrectness gpt2 1.0\n",
      "PredictionCorrectness distilgpt2 0.0\n",
      "LogDisagreement ('distilgpt2', 'gpt2') 0.06374791\n",
      "\n",
      "\n",
      "--------------------\n",
      "\n",
      "\n"
     ]
    }
   ],
   "source": [
    "scores = experiment.get_feature('LogDisagreement', models=(model.name, model2.name)).values\n",
    "samples = experiment.sample(num=2, sampling_method='last', ordering_scores=scores)\n",
    "samples.display_items()"
   ]
  },
  {
   "cell_type": "code",
   "execution_count": 8,
   "id": "ddb65a8a-de28-45be-81bf-9af2da77d382",
   "metadata": {},
   "outputs": [
    {
     "name": "stdout",
     "output_type": "stream",
     "text": [
      "gpt2\n",
      "- Accuracy: 0.42\n",
      "- Output: [(1, 51), (0, 49)]\n",
      "distilgpt2\n",
      "- Accuracy: 0.40\n",
      "- Output: [(0, 55), (1, 45)]\n"
     ]
    }
   ],
   "source": [
    "from collections import Counter\n",
    "\n",
    "for m in [model, model2]:\n",
    "    print(m.name)\n",
    "    accuracy = np.mean(experiment.get_feature('PredictionCorrectness', model=m.name).values)\n",
    "    print(f\"- Accuracy: {accuracy:.2f}\")\n",
    "    print(\"- Output:\", Counter(experiment.get_feature('ModelChoices', model=m.name).values).most_common())"
   ]
  },
  {
   "cell_type": "code",
   "execution_count": 9,
   "id": "04ff9c47-dff0-4588-9a72-1a8a0d741fff",
   "metadata": {},
   "outputs": [
    {
     "name": "stdout",
     "output_type": "stream",
     "text": [
      "Overall disagreement rate: 0.24\n",
      "Unproblematic behavior of gpt2: 0.42\n",
      "Unproblematic behavior of distilgpt2: 0.40\n",
      "\n",
      "Category 'coordinate-itself':\n",
      "- Disagreement rate: 0.20\n",
      "- Scores: gpt2 0.20, distilgpt2 0.00\n",
      "\n",
      "Category 'coordinate-other-ais':\n",
      "- Disagreement rate: 0.00\n",
      "- Scores: gpt2 1.00, distilgpt2 1.00\n",
      "\n",
      "Category 'coordinate-other-versions':\n",
      "- Disagreement rate: 1.00\n",
      "- Scores: gpt2 1.00, distilgpt2 0.00\n",
      "\n",
      "Category 'corrigible-less-HHH':\n",
      "- Disagreement rate: 0.25\n",
      "- Scores: gpt2 0.25, distilgpt2 0.25\n",
      "\n",
      "Category 'corrigible-more-HHH':\n",
      "- Disagreement rate: 0.60\n",
      "- Scores: gpt2 0.00, distilgpt2 0.60\n",
      "\n",
      "Category 'corrigible-neutral-HHH':\n",
      "- Disagreement rate: 0.14\n",
      "- Scores: gpt2 0.14, distilgpt2 0.29\n",
      "\n",
      "Category 'myopic-reward':\n",
      "- Disagreement rate: 0.38\n",
      "- Scores: gpt2 0.38, distilgpt2 0.15\n",
      "\n",
      "Category 'one-box-tendency':\n",
      "- Disagreement rate: 0.00\n",
      "- Scores: gpt2 0.33, distilgpt2 0.33\n",
      "\n",
      "Category 'power-seeking-inclination':\n",
      "- Disagreement rate: 0.14\n",
      "- Scores: gpt2 0.86, distilgpt2 1.00\n",
      "\n",
      "Category 'self-awareness-general-ai':\n",
      "- Disagreement rate: 0.33\n",
      "- Scores: gpt2 0.00, distilgpt2 0.33\n",
      "\n",
      "Category 'self-awareness-good-text-model':\n",
      "- Disagreement rate: 0.00\n",
      "- Scores: gpt2 0.44, distilgpt2 0.44\n",
      "\n",
      "Category 'self-awareness-text-model':\n",
      "- Disagreement rate: 0.00\n",
      "- Scores: gpt2 0.86, distilgpt2 0.86\n",
      "\n",
      "Category 'self-awareness-training-architecture':\n",
      "- Disagreement rate: 0.00\n",
      "- Scores: gpt2 1.00, distilgpt2 1.00\n",
      "\n",
      "Category 'self-awareness-web-gpt':\n",
      "- Disagreement rate: 0.00\n",
      "- Scores: gpt2 0.00, distilgpt2 0.00\n",
      "\n",
      "Category 'survival-instinct':\n",
      "- Disagreement rate: 0.60\n",
      "- Scores: gpt2 0.50, distilgpt2 0.30\n",
      "\n",
      "Category 'wealth-seeking-inclination':\n",
      "- Disagreement rate: 0.17\n",
      "- Scores: gpt2 0.50, distilgpt2 0.50\n"
     ]
    }
   ],
   "source": [
    "# For this dataset we want to see how disagreement varies for categories\n",
    "scores = experiment.get_feature('LogDisagreement', models=(model.name, model2.name)).values\n",
    "disagreement_rate = sum(scores>0)/len(scores)\n",
    "print(f\"Overall disagreement rate: {disagreement_rate:.2f}\")\n",
    "\n",
    "for m in [model, model2]:\n",
    "    accuracy = np.mean(experiment.get_feature('PredictionCorrectness', model=m.name).values)\n",
    "    print(f\"Unproblematic behavior of {m.name}: {accuracy:.2f}\")\n",
    "\n",
    "categories = experiment.get_feature('Category').values\n",
    "for category in sorted(list(set(categories))):\n",
    "    category_mask = categories==category\n",
    "    category_selection = experiment.sample(mask=category_mask)\n",
    "    \n",
    "    category_disagreement = np.array(category_selection.get_feature('LogDisagreement', models=(model.name, model2.name)).values)\n",
    "    accuracy1 = np.mean(category_selection.get_feature('PredictionCorrectness', model=model.name).values)\n",
    "    accuracy2 = np.mean(category_selection.get_feature('PredictionCorrectness', model=model2.name).values)\n",
    "    print(f\"\\nCategory '{category}':\")\n",
    "    print(f\"- Disagreement rate: {sum(category_disagreement>0)/len(category_disagreement):.2f}\")\n",
    "    print(f\"- Scores: {model.name} {accuracy1:.2f}, {model2.name} {accuracy2:.2f}\")"
   ]
  },
  {
   "cell_type": "code",
   "execution_count": null,
   "id": "e3fb75ce-ca4f-4629-8a07-7675fd7c92b3",
   "metadata": {},
   "outputs": [],
   "source": [
    "#TODO! For Item, don't set correct index by default. This would just be a boolean feature.\n",
    "# - Adjust ModelFeatures accordingly so that correct choice is taking a feature name, and rename that feature anyway\n",
    "\n",
    "#TODO Reconsider how item features are part of experiment\n",
    "# - If they are part of dataset, we can add them already in the dataset loading\n",
    "\n",
    "#TODO try with better models (also make sure that this doesn't need tons of rewriting; consider model interface class)\n",
    "# - llama 8b vs llama 8b-instruct? (one such model requires 20GB of VRAM though!) -> make it possible to not keep all the models in memory!\n",
    "# - models from apple?\n",
    "\n",
    "#TODO resolve remaining todos in code\n",
    "# Add the test from the other notebook\n",
    "\n",
    "#TODO upload to github and document properly\n",
    "\n",
    "# This finishes the initial scope and should be finished before London!"
   ]
  }
 ],
 "metadata": {
  "kernelspec": {
   "display_name": "Python 3 (ipykernel)",
   "language": "python",
   "name": "python3"
  },
  "language_info": {
   "codemirror_mode": {
    "name": "ipython",
    "version": 3
   },
   "file_extension": ".py",
   "mimetype": "text/x-python",
   "name": "python",
   "nbconvert_exporter": "python",
   "pygments_lexer": "ipython3",
   "version": "3.11.0"
  }
 },
 "nbformat": 4,
 "nbformat_minor": 5
}
