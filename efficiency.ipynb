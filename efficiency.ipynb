{
 "cells": [
  {
   "cell_type": "code",
   "execution_count": 1,
   "id": "765b22a8-cf37-47b8-9f9c-f44f7a015a5e",
   "metadata": {},
   "outputs": [],
   "source": [
    "from model import Transformer\n",
    "\n",
    "model = Transformer('gpt2')"
   ]
  },
  {
   "cell_type": "code",
   "execution_count": 2,
   "id": "ddc362d5-cc87-4514-a50d-f3501dc9f0a6",
   "metadata": {},
   "outputs": [
    {
     "name": "stderr",
     "output_type": "stream",
     "text": [
      "/Users/john/code/perspectives/venv/lib/python3.11/site-packages/datasets/load.py:1486: FutureWarning: The repository for hellaswag contains custom code which must be executed to correctly load the dataset. You can inspect the repository content at https://hf.co/datasets/hellaswag\n",
      "You can avoid this message in future by passing the argument `trust_remote_code=True`.\n",
      "Passing `trust_remote_code=True` will be mandatory to load this dataset from the next major release of `datasets`.\n",
      "  warnings.warn(\n"
     ]
    }
   ],
   "source": [
    "from loader import load_hellaswag\n",
    "from experiment import Experiment\n",
    "\n",
    "dataset, features = load_hellaswag()\n",
    "experiment = Experiment(dataset=dataset, name='HellaSwag Test', features=features)"
   ]
  },
  {
   "cell_type": "code",
   "execution_count": 5,
   "id": "0e0e3392-bdcb-4e69-ab68-c9ab14f3258f",
   "metadata": {},
   "outputs": [],
   "source": [
    "sampled_experiment = experiment.sample(num=100)"
   ]
  },
  {
   "cell_type": "markdown",
   "id": "f3d5a7ed-0dc8-451c-b23b-fd9d36a0453e",
   "metadata": {},
   "source": [
    "## Efficiency"
   ]
  },
  {
   "cell_type": "code",
   "execution_count": 6,
   "id": "fcb058e4-abc0-495c-ad14-f68fd4d6d602",
   "metadata": {},
   "outputs": [
    {
     "name": "stdout",
     "output_type": "stream",
     "text": [
      "CPU times: user 2min 7s, sys: 30.7 s, total: 2min 38s\n",
      "Wall time: 20.5 s\n",
      "CPU times: user 2min 14s, sys: 32 s, total: 2min 46s\n",
      "Wall time: 21.3 s\n",
      "CPU times: user 2min 36s, sys: 39.2 s, total: 3min 15s\n",
      "Wall time: 25.9 s\n"
     ]
    }
   ],
   "source": [
    "# Can we speed up computation a little? Batching? (Use some timing here to compare)\n",
    "import numpy as np\n",
    "import torch\n",
    "import torch.nn.functional as F\n",
    "\n",
    "\n",
    "def current_method(model, experiment):\n",
    "    results = model.compute_option_log_likelihoods(items=experiment.dataset.items)\n",
    "    return np.array(results)\n",
    "\n",
    "def batch_computation(\n",
    "        model,\n",
    "        items,\n",
    "        add_whitespace: bool=True,\n",
    "    ):\n",
    "    input_texts = []\n",
    "    for item in items:\n",
    "        input_texts.extend([item.prompt + (\" \" if add_whitespace else \"\") + option for option in item.options])\n",
    "\n",
    "    # Tokenize the combined texts\n",
    "    encoded_inputs = model.tokenize_texts(input_texts)\n",
    "\n",
    "    # Get logits from the model\n",
    "    logits = model.get_logits(encoded_inputs)\n",
    "\n",
    "    #TODO To get the correct result, we would need to consider prompt lengths too,\n",
    "    # but first check if this approach is even faster\n",
    "    \n",
    "    # Ignore the log probs at the beginning\n",
    "    prompt_length = 1 #len(model.tokenizer(item.prompt, add_special_tokens=False)['input_ids']) #- 1\n",
    "\n",
    "    # Calculate log probabilities from the logits for each token\n",
    "    log_probs = F.log_softmax(logits, dim=-1)[:, prompt_length - 1:-1]\n",
    "    # Need to offset by one since last position contains prediction for current token\n",
    "\n",
    "    input_ids = encoded_inputs['input_ids'][:, prompt_length:]\n",
    "    attention_mask = encoded_inputs['attention_mask'][:, prompt_length:]\n",
    "\n",
    "    # Get log probabilities of actual tokens\n",
    "    token_log_probs = log_probs.gather(2, input_ids.unsqueeze(-1)).squeeze(-1)\n",
    "\n",
    "    # Set irrelevant entries at the end (from padding) to zero\n",
    "    masked_log_probs = token_log_probs * attention_mask\n",
    "\n",
    "    #TODO Note that we would need to pull this apart again so that items have separate entries\n",
    "    return torch.sum(masked_log_probs, dim=1).numpy()\n",
    "\n",
    "\n",
    "def new_method(model, experiment, batch_size=10):\n",
    "    results = []\n",
    "    for pos in range(0, len(experiment.dataset.items), batch_size):\n",
    "        items = experiment.dataset.items[pos:pos+batch_size]\n",
    "        results.extend(batch_computation(model, items=items))\n",
    "    return results\n",
    "\n",
    "%time lp1 = current_method(model, sampled_experiment)\n",
    "for bs in [2, 5]: #, 10, 20, 50, 100]:\n",
    "    %time lp2 = new_method(model, sampled_experiment, batch_size=bs)"
   ]
  },
  {
   "cell_type": "code",
   "execution_count": null,
   "id": "afd4563f-296b-450e-b7fc-19dfa97ff5d9",
   "metadata": {},
   "outputs": [],
   "source": []
  }
 ],
 "metadata": {
  "kernelspec": {
   "display_name": "Python 3 (ipykernel)",
   "language": "python",
   "name": "python3"
  },
  "language_info": {
   "codemirror_mode": {
    "name": "ipython",
    "version": 3
   },
   "file_extension": ".py",
   "mimetype": "text/x-python",
   "name": "python",
   "nbconvert_exporter": "python",
   "pygments_lexer": "ipython3",
   "version": "3.11.0"
  }
 },
 "nbformat": 4,
 "nbformat_minor": 5
}
