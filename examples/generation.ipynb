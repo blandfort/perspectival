{
 "cells": [
  {
   "cell_type": "code",
   "execution_count": 1,
   "id": "af7eb9fc-c5bf-436f-ad25-746ba8072741",
   "metadata": {},
   "outputs": [],
   "source": [
    "%load_ext autoreload\n",
    "%autoreload 2"
   ]
  },
  {
   "cell_type": "markdown",
   "id": "ad4fc2fe-1d50-4003-8dbd-ff0859de7c6e",
   "metadata": {},
   "source": [
    "# Generation Example\n",
    "\n",
    "In this example, we are comparing two models on free text generation (without giving concrete continuation options)."
   ]
  },
  {
   "cell_type": "markdown",
   "id": "d4c3f9ad-1fbb-4733-8858-8a2e40a2ae4e",
   "metadata": {},
   "source": [
    "## Loading Models"
   ]
  },
  {
   "cell_type": "code",
   "execution_count": 1,
   "id": "19e77af4-47fb-49a6-a429-43f15f34044e",
   "metadata": {},
   "outputs": [],
   "source": [
    "import os\n",
    "from perspectival.model import Transformer\n",
    "\n",
    "# Set your HuggingFace access token with: `export HUGGINGFACE_TOKEN='your_token_here'`\n",
    "# (To obtain the access token, see https://huggingface.co/docs/hub/security-tokens)\n",
    "# Alternatively, simply use other models ;)\n",
    "model = Transformer('apple/OpenELM-270M', model_kwargs={'trust_remote_code': True}, lazy_loading=False,\n",
    "                    tokenizer_kwargs={'token': os.getenv(\"HUGGINGFACE_TOKEN\")})\n",
    "model2 = Transformer('apple/OpenELM-270M-Instruct', model_kwargs={'trust_remote_code': True},\n",
    "                     tokenizer_kwargs={'token': os.getenv(\"HUGGINGFACE_TOKEN\")})"
   ]
  },
  {
   "cell_type": "markdown",
   "id": "e05cdd9b-b35d-4391-8328-ea36bb8502d3",
   "metadata": {},
   "source": [
    "## Set up an Experiment\n",
    "\n",
    "We are loading the HellaSwag dataset, but will only use the prompt part."
   ]
  },
  {
   "cell_type": "code",
   "execution_count": 2,
   "id": "668629c7-a5dd-40e9-8680-3f3bf39b2771",
   "metadata": {},
   "outputs": [
    {
     "name": "stderr",
     "output_type": "stream",
     "text": [
      "Using the latest cached version of the module from /Users/john/.cache/huggingface/modules/datasets_modules/datasets/hellaswag/512a66dd8b1b1643ab4a48aa4f150d04c91680da6a4096498a5e5f799623d5ae (last modified on Tue Apr 30 07:59:00 2024) since it couldn't be found locally at hellaswag, or remotely on the Hugging Face Hub.\n"
     ]
    }
   ],
   "source": [
    "from perspectival.loader import load_hellaswag\n",
    "from perspectival.experiment import Experiment\n",
    "\n",
    "dataset, features = load_hellaswag()\n",
    "experiment = Experiment(dataset=dataset, name='Generation Example', features=features)"
   ]
  },
  {
   "cell_type": "code",
   "execution_count": 3,
   "id": "d67786e4-7ab6-4cb4-87e2-902ad05b789e",
   "metadata": {},
   "outputs": [],
   "source": [
    "# Optional: Select a random subset of the dataset for quicker processing\n",
    "# (Note that computing text continuations is quite time intensive!)\n",
    "experiment = experiment.sample(num=10)"
   ]
  },
  {
   "cell_type": "markdown",
   "id": "c7ad66be-535c-4fff-9b4e-045100a99069",
   "metadata": {},
   "source": [
    "## Computing Features"
   ]
  },
  {
   "cell_type": "code",
   "execution_count": 4,
   "id": "7e73e076-1e38-4bc5-9b4d-ff415f1f93eb",
   "metadata": {},
   "outputs": [
    {
     "name": "stdout",
     "output_type": "stream",
     "text": [
      "Computing text continuations ...\n"
     ]
    },
    {
     "name": "stderr",
     "output_type": "stream",
     "text": [
      "100%|████████████████████████████████████████████████████████████| 10/10 [00:21<00:00,  2.13s/it]\n"
     ]
    },
    {
     "name": "stdout",
     "output_type": "stream",
     "text": [
      "Computing text continuations ...\n"
     ]
    },
    {
     "name": "stderr",
     "output_type": "stream",
     "text": [
      "100%|████████████████████████████████████████████████████████████| 10/10 [00:20<00:00,  2.02s/it]\n"
     ]
    },
    {
     "name": "stdout",
     "output_type": "stream",
     "text": [
      "Computing option log likelihoods ...\n"
     ]
    },
    {
     "name": "stderr",
     "output_type": "stream",
     "text": [
      "  0%|                                                                     | 0/10 [00:00<?, ?it/s]Asking to truncate to max_length but no maximum length is provided and the model has no predefined maximum length. Default to no truncation.\n",
      "100%|████████████████████████████████████████████████████████████| 10/10 [00:02<00:00,  3.87it/s]\n"
     ]
    },
    {
     "name": "stdout",
     "output_type": "stream",
     "text": [
      "Computing option log likelihoods ...\n"
     ]
    },
    {
     "name": "stderr",
     "output_type": "stream",
     "text": [
      "  0%|                                                                     | 0/10 [00:00<?, ?it/s]Asking to truncate to max_length but no maximum length is provided and the model has no predefined maximum length. Default to no truncation.\n",
      "100%|████████████████████████████████████████████████████████████| 10/10 [00:02<00:00,  3.99it/s]\n"
     ]
    }
   ],
   "source": [
    "experiment.compute_continuation_disagreement(models=[model, model2])"
   ]
  },
  {
   "cell_type": "markdown",
   "id": "4aa42f89-ddd2-469c-ae88-b08d7c9a58be",
   "metadata": {},
   "source": [
    "## Exploring Results"
   ]
  },
  {
   "cell_type": "code",
   "execution_count": 5,
   "id": "94dca7a4-3285-4b23-a9a5-8add230086a9",
   "metadata": {},
   "outputs": [
    {
     "name": "stdout",
     "output_type": "stream",
     "text": [
      "ITEM (train_12630)\n",
      "\"\"\"Polishing shoes: Shoe polish supplies in a store, then people in a classroom get instructions about shoe polish. The teacher demonstrates to polish a boot using a tissue. Then\"\"\"\n",
      "Options: [', a man polish with nails and polish a boot.', ', the woman screws the an shoes to polish an sneakers shoe.', ', two people polish the boot using a croquet mallet to demonstrate how to properly polish and maintain polish.', ', a girl polish the shoe of a woman using a cloth.']\n",
      "\n",
      "FEATURES\n",
      "GroundTruth 3\n",
      "TextContinuation apple/OpenELM-270M  the students get to work.\n",
      "\n",
      "The teacher shows the students how to use a polishing brush. The students get to work.\n",
      "\n",
      "The teacher shows the students how to use a polishing brush. The students get to work.\n",
      "\n",
      "The teacher shows the students how to use a polishing br\n",
      "TextContinuation apple/OpenELM-270M-Instruct  the students practice polishing shoes at home.\n",
      "Teaching shoe polish: Students practice polishing shoes at home.\n",
      "Teaching shoe polish supplies: Students find polish bottles at the dollar store, then they find polish brushes at the craft store\n",
      "ContinuationDisagreement ('apple/OpenELM-270M', 'apple/OpenELM-270M-Instruct') 0.30376643\n",
      "\n",
      "\n",
      "--------------------\n",
      "\n",
      "\n",
      "ITEM (train_19932)\n",
      "\"\"\"Finance and Business: How to do your own financial planning. Determine what your key personal and financial goals are. Before you can create a solid financial plan, you need to be clear about your goals. Common financial goals include: planning for retirement, paying for education, purchasing a home, creating an inheritance for beneficiaries, or developing a financial \" safety net \" to guard against unexpected expenses, disasters, or life changes.\"\"\"\n",
      "Options: [' It may be that you are not aware of your plans before beginning to plan. This is why certain financial goals benefit one person but not another.', ' Your financial goals should encompass how you plan to manage your finances and what you can accomplish to achieve them. You also should identify whether or not you need financial resources.', ' You can find templates for worksheets to help define your financial goals by searching online.. Be accurate in your goals you want to accomplish.', \" Make a list of goals you'd like to set for yourself. Write down any meaningful things that you have and have done that you want for your retirement.\"]\n",
      "\n",
      "FEATURES\n",
      "GroundTruth 2\n",
      "TextContinuation apple/OpenELM-270M \n",
      "Investing: How to invest your money. Determine your investment goals. Before you can invest, you need to be clear about your investment goals. Common investment goals include: saving for retirement, investing for income, investing for growth, investing for education, investing for\n",
      "TextContinuation apple/OpenELM-270M-Instruct \n",
      "Determine your personal income and expenses. Estimate your monthly income and expenses based on your occupation, education, and expected earning potential.\n",
      "Assess your current financial position. Determine your net worth, debts, assets, liabilities, and cash flow.\n",
      "Create a\n",
      "ContinuationDisagreement ('apple/OpenELM-270M', 'apple/OpenELM-270M-Instruct') 0.23089722\n",
      "\n",
      "\n",
      "--------------------\n",
      "\n",
      "\n",
      "ITEM (train_1601)\n",
      "\"\"\"Skateboarding: A man is seen sitting in front of a fence sitting on a skateboard and speaking to the camera. Several shots\"\"\"\n",
      "Options: ['are shown of people performing tricks with skateboards on the road and bowls for the camera.', 'are shown of various people in various places and one watching others.', 'are then shown of him speaking to the camera and performing various skateboarding tricks around a park.', 'are then shown of people riding around a city on skateboards and hitting various objects with their boards.']\n",
      "\n",
      "FEATURES\n",
      "GroundTruth 2\n",
      "TextContinuation apple/OpenELM-270M  of the man sitting on the fence.\n",
      "\n",
      "The man is seen walking towards the camera. He is wearing a black hoodie and black jeans. He is wearing a black jacket and black shoes. He is wearing a black hat. He is wearing a black backpack.\n",
      "TextContinuation apple/OpenELM-270M-Instruct  of the man are shown, with the camera zooming in on the fence.\n",
      "\n",
      "The man is seen wearing a black hoodie, black jeans, black sneakers, and black running shoes. The camera pans to the right, showing the fence, and then to the left\n",
      "ContinuationDisagreement ('apple/OpenELM-270M', 'apple/OpenELM-270M-Instruct') 0.22987643\n",
      "\n",
      "\n",
      "--------------------\n",
      "\n",
      "\n"
     ]
    }
   ],
   "source": [
    "# Show items with max disagreement\n",
    "scores = experiment.get_feature('ContinuationDisagreement', models=(model.name, model2.name)).values\n",
    "samples = experiment.sample(num=3, sampling_method='last', ordering_scores=scores)\n",
    "samples.display_items()"
   ]
  },
  {
   "cell_type": "code",
   "execution_count": null,
   "id": "e3fb75ce-ca4f-4629-8a07-7675fd7c92b3",
   "metadata": {},
   "outputs": [],
   "source": []
  }
 ],
 "metadata": {
  "kernelspec": {
   "display_name": "Python 3 (ipykernel)",
   "language": "python",
   "name": "python3"
  },
  "language_info": {
   "codemirror_mode": {
    "name": "ipython",
    "version": 3
   },
   "file_extension": ".py",
   "mimetype": "text/x-python",
   "name": "python",
   "nbconvert_exporter": "python",
   "pygments_lexer": "ipython3",
   "version": "3.11.0"
  }
 },
 "nbformat": 4,
 "nbformat_minor": 5
}
