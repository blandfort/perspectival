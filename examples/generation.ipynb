{
 "cells": [
  {
   "cell_type": "code",
   "execution_count": 1,
   "id": "af7eb9fc-c5bf-436f-ad25-746ba8072741",
   "metadata": {},
   "outputs": [],
   "source": [
    "%load_ext autoreload\n",
    "%autoreload 2"
   ]
  },
  {
   "cell_type": "markdown",
   "id": "ad4fc2fe-1d50-4003-8dbd-ff0859de7c6e",
   "metadata": {},
   "source": [
    "# Generation Example\n",
    "\n",
    "In this example, we are comparing two models on free text generation (without giving concrete continuation options)."
   ]
  },
  {
   "cell_type": "markdown",
   "id": "d4c3f9ad-1fbb-4733-8858-8a2e40a2ae4e",
   "metadata": {},
   "source": [
    "## Loading Models"
   ]
  },
  {
   "cell_type": "code",
   "execution_count": 2,
   "id": "19e77af4-47fb-49a6-a429-43f15f34044e",
   "metadata": {},
   "outputs": [],
   "source": [
    "import os\n",
    "from perspectival.model import Transformer\n",
    "\n",
    "# Set your HuggingFace access token with: `export HUGGINGFACE_TOKEN='your_token_here'`\n",
    "# (To obtain the access token, see https://huggingface.co/docs/hub/security-tokens)\n",
    "# Alternatively, simply use other models ;)\n",
    "model = Transformer('apple/OpenELM-270M', model_kwargs={'trust_remote_code': True}, lazy_loading=False,\n",
    "                    tokenizer_kwargs={'token': os.getenv(\"HUGGINGFACE_TOKEN\")})\n",
    "model2 = Transformer('apple/OpenELM-270M-Instruct', model_kwargs={'trust_remote_code': True},\n",
    "                     tokenizer_kwargs={'token': os.getenv(\"HUGGINGFACE_TOKEN\")})"
   ]
  },
  {
   "cell_type": "markdown",
   "id": "e05cdd9b-b35d-4391-8328-ea36bb8502d3",
   "metadata": {},
   "source": [
    "## Set up an Experiment\n",
    "\n",
    "We are loading the HellaSwag dataset, but will only use the prompt part."
   ]
  },
  {
   "cell_type": "code",
   "execution_count": 3,
   "id": "668629c7-a5dd-40e9-8680-3f3bf39b2771",
   "metadata": {},
   "outputs": [
    {
     "name": "stderr",
     "output_type": "stream",
     "text": [
      "/Users/john/code/perspectives/venv/lib/python3.11/site-packages/datasets/load.py:1486: FutureWarning: The repository for hellaswag contains custom code which must be executed to correctly load the dataset. You can inspect the repository content at https://hf.co/datasets/hellaswag\n",
      "You can avoid this message in future by passing the argument `trust_remote_code=True`.\n",
      "Passing `trust_remote_code=True` will be mandatory to load this dataset from the next major release of `datasets`.\n",
      "  warnings.warn(\n"
     ]
    }
   ],
   "source": [
    "from perspectival.loader import load_hellaswag\n",
    "from perspectival.experiment import Experiment\n",
    "\n",
    "dataset, features = load_hellaswag()\n",
    "experiment = Experiment(dataset=dataset, name='Generation Example', features=features)"
   ]
  },
  {
   "cell_type": "code",
   "execution_count": 4,
   "id": "d67786e4-7ab6-4cb4-87e2-902ad05b789e",
   "metadata": {},
   "outputs": [],
   "source": [
    "# Optional: Select a random subset of the dataset for quicker processing\n",
    "# (Note that computing text continuations is quite time intensive!)\n",
    "experiment = experiment.sample(num=10)"
   ]
  },
  {
   "cell_type": "markdown",
   "id": "c7ad66be-535c-4fff-9b4e-045100a99069",
   "metadata": {},
   "source": [
    "## Computing Features"
   ]
  },
  {
   "cell_type": "code",
   "execution_count": 5,
   "id": "a3a73679-85f9-47ff-a7a5-3a0a2dabff18",
   "metadata": {},
   "outputs": [
    {
     "name": "stdout",
     "output_type": "stream",
     "text": [
      "Computing text continuations ...\n"
     ]
    },
    {
     "name": "stderr",
     "output_type": "stream",
     "text": [
      "100%|████████████████████████████████████████████████████████████| 10/10 [00:21<00:00,  2.11s/it]\n"
     ]
    },
    {
     "name": "stdout",
     "output_type": "stream",
     "text": [
      "Computing text continuations ...\n"
     ]
    },
    {
     "name": "stderr",
     "output_type": "stream",
     "text": [
      "100%|████████████████████████████████████████████████████████████| 10/10 [00:20<00:00,  2.03s/it]\n"
     ]
    }
   ],
   "source": [
    "from perspectival.features import TextContinuation\n",
    "\n",
    "tc1 = TextContinuation.compute(dataset=experiment.dataset, model=model)\n",
    "tc2 = TextContinuation.compute(dataset=experiment.dataset, model=model2)\n",
    "experiment.register_feature(tc1)\n",
    "experiment.register_feature(tc2)"
   ]
  },
  {
   "cell_type": "code",
   "execution_count": 8,
   "id": "021c1a86-eead-4211-9d5e-bf326874a723",
   "metadata": {},
   "outputs": [
    {
     "name": "stdout",
     "output_type": "stream",
     "text": [
      "Computing option log likelihoods ...\n"
     ]
    },
    {
     "name": "stderr",
     "output_type": "stream",
     "text": [
      "100%|████████████████████████████████████████████████████████████| 10/10 [00:02<00:00,  4.19it/s]\n"
     ]
    },
    {
     "name": "stdout",
     "output_type": "stream",
     "text": [
      "Computing option log likelihoods ...\n"
     ]
    },
    {
     "name": "stderr",
     "output_type": "stream",
     "text": [
      "  0%|                                                                     | 0/10 [00:00<?, ?it/s]Asking to truncate to max_length but no maximum length is provided and the model has no predefined maximum length. Default to no truncation.\n",
      "100%|████████████████████████████████████████████████████████████| 10/10 [00:02<00:00,  3.94it/s]\n"
     ]
    }
   ],
   "source": [
    "from perspectival.features import ContinuationDisagreement\n",
    "\n",
    "cd = ContinuationDisagreement.compute(dataset=experiment.dataset, continuations=[tc1, tc2], models=[model, model2])\n",
    "experiment.register_feature(cd)"
   ]
  },
  {
   "cell_type": "markdown",
   "id": "4aa42f89-ddd2-469c-ae88-b08d7c9a58be",
   "metadata": {},
   "source": [
    "## Exploring Results"
   ]
  },
  {
   "cell_type": "code",
   "execution_count": 9,
   "id": "94dca7a4-3285-4b23-a9a5-8add230086a9",
   "metadata": {},
   "outputs": [
    {
     "name": "stdout",
     "output_type": "stream",
     "text": [
      "ITEM (train_8959)\n",
      "\"\"\"Using the rowing machine: A woman exercises at a machine. The camera\"\"\"\n",
      "Options: ['man watches from behind.', 'pans at a horseback riding event, a horse and rider pass to the left.', 'pans to show her holding an elliptical, and showing how she uses the machine.', 'focuses on and features specific parts of the machine.']\n",
      "\n",
      "FEATURES\n",
      "GroundTruth 3\n",
      "TextContinuation apple/OpenELM-270M  is on the rowing machine.\n",
      "Using the rowing machine: A woman exercises at a machine. The camera is on the rowing machine.\n",
      "The camera is on the rowing machine.\n",
      "The camera is on the rowing machine.\n",
      "The camera is on the rowing machine.\n",
      "The\n",
      "TextContinuation apple/OpenELM-270M-Instruct  follows the woman as she performs exercises.\n",
      "Using the rowing machine: A woman exercises at a machine. The camera follows the woman as she performs exercises.\n",
      "1. The woman is seated at a machine, facing the monitor. The camera follows her movements as she performs exercis\n",
      "ContinuationDisagreement ('apple/OpenELM-270M', 'apple/OpenELM-270M-Instruct') 0.29063016\n",
      "\n",
      "\n",
      "--------------------\n",
      "\n",
      "\n",
      "ITEM (train_21426)\n",
      "\"\"\"Travel: How to time your trip to miami. Consider what you want most from a miami trip, because most trips involve a trade-off. The best time of year in terms of weather and miami attractions and events is also the most expensive. If you're looking for the best value for your money, you can avoid the crowds, but miami weather can be uncomfortable and volatile.\"\"\"\n",
      "Options: ['Miami has popular widest entry seasons, making it a good place to join your locals. Being in a country and its population is certainly cycling too long, thus reducing your sailing time in miami.', 'The shopping guide you pay attention to can help you remember prices and weather specific to your visit.. Utilize taco bell stops to wait for car stops.', \"Chances are, if you pack light, you won't notice a huge crowds for the trip. Review the information for the others in your destinations, which are good if you want to skip island excursions.\", ' Visit miami at peak time, which is january through april. Temperatures are in the 70s (20s celsius), and the sun is always shining.']\n",
      "\n",
      "FEATURES\n",
      "GroundTruth 3\n",
      "TextContinuation apple/OpenELM-270M \n",
      "Miami is a city that is known for its nightlife, but it's also known for its weather. The city is located in the southeastern part of the United States, and it's a popular destination for tourists and locals alike.\n",
      "Miami is a city that is known\n",
      "TextContinuation apple/OpenELM-270M-Instruct \n",
      "\n",
      "1. Early spring: The mornings are cooler, the days are longer, and the weather is more pleasant. The spring break crowd is less intense, and the miami attractions and events are at their peak.\n",
      "\n",
      "2. Mid-spring: The mornings are still cool\n",
      "ContinuationDisagreement ('apple/OpenELM-270M', 'apple/OpenELM-270M-Instruct') 0.2104511\n",
      "\n",
      "\n",
      "--------------------\n",
      "\n",
      "\n",
      "ITEM (train_30102)\n",
      "\"\"\"Education and Communications: How to start your own local food movement. Imagine that a comprehensive, local food system is possible. Without dreaming it up, it can't become a reality. Conceptualizing what a local food system would be like is key to bringing it into existence.\"\"\"\n",
      "Options: ['Sit down to gather 50-100 people and create ten new food groups. Write out all of the food groups and map each meal group out on a sheet of paper.', 'To get into the picture of the world, imagine that a soup is rising and to start it needs to happen now. The needs of a food system include making or selling locally, cooking for low cost, fixing or selling different food ratios and delivering or providing service to your community.', 'Leave nothing out of the plan: think big, think small, think of the impossible and think of the easy steps that will lead to reaching the goal.. Include every local food source as a contributor to the overall, local food supply.', ' To begin, start by imagining the way food is made, and other local food functions. Then move on to thinking about food nutrition but even more importantly, make the food system realistic.']\n",
      "\n",
      "FEATURES\n",
      "GroundTruth 2\n",
      "TextContinuation apple/OpenELM-270M \n",
      "The first step is to understand what a local food system is. A local food system is a system that is based on the local food system. It is a system that is based on the local food system. It is a system that is based on the local food system.\n",
      "A local food system is a system\n",
      "TextContinuation apple/OpenELM-270M-Instruct \n",
      "\n",
      "1. Establish a clear vision. What do you want your local food system to look like?\n",
      "\n",
      "2. Define your mission. What do you hope to accomplish with your food movement?\n",
      "\n",
      "3. Determine your target audience. Who are your ideal supporters?\n",
      "\n",
      "4\n",
      "ContinuationDisagreement ('apple/OpenELM-270M', 'apple/OpenELM-270M-Instruct') 0.16281584\n",
      "\n",
      "\n",
      "--------------------\n",
      "\n",
      "\n"
     ]
    }
   ],
   "source": [
    "# Show items with max disagreement\n",
    "scores = experiment.get_feature('ContinuationDisagreement', models=(model.name, model2.name)).values\n",
    "samples = experiment.sample(num=3, sampling_method='last', ordering_scores=scores)\n",
    "samples.display_items()"
   ]
  },
  {
   "cell_type": "code",
   "execution_count": null,
   "id": "e3fb75ce-ca4f-4629-8a07-7675fd7c92b3",
   "metadata": {},
   "outputs": [],
   "source": []
  }
 ],
 "metadata": {
  "kernelspec": {
   "display_name": "Python 3 (ipykernel)",
   "language": "python",
   "name": "python3"
  },
  "language_info": {
   "codemirror_mode": {
    "name": "ipython",
    "version": 3
   },
   "file_extension": ".py",
   "mimetype": "text/x-python",
   "name": "python",
   "nbconvert_exporter": "python",
   "pygments_lexer": "ipython3",
   "version": "3.11.0"
  }
 },
 "nbformat": 4,
 "nbformat_minor": 5
}
